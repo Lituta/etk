{
 "cells": [
  {
   "cell_type": "markdown",
   "metadata": {},
   "source": [
    "# ETK 101"
   ]
  },
  {
   "cell_type": "markdown",
   "metadata": {},
   "source": [
    "Outline:\n",
    "\n",
    "* important concepts\n",
    "* explained via example"
   ]
  },
  {
   "cell_type": "code",
   "execution_count": null,
   "metadata": {},
   "outputs": [],
   "source": [
    "import json\n",
    "from etk.etk import ETK\n",
    "from etk.extractors.glossary_extractor import GlossaryExtractor\n",
    "from etk.etk_module import ETKModule"
   ]
  },
  {
   "cell_type": "code",
   "execution_count": 23,
   "metadata": {},
   "outputs": [],
   "source": [
    "etk = ETK()"
   ]
  },
  {
   "cell_type": "code",
   "execution_count": 24,
   "metadata": {},
   "outputs": [],
   "source": [
    "sample_input = {\n",
    "        \"projects\": [\n",
    "            {\n",
    "                \"name\": \"etk\",\n",
    "                \"description\": \"version 2 of etk, implemented by Runqi, Dongyu, Sylvia, Amandeep and others.\"\n",
    "            },\n",
    "            {\n",
    "                \"name\": \"rltk\",\n",
    "                \"description\": \"record linkage toolkit, implemented by Pedro, Mayank, Yixiang and several students.\"\n",
    "            }\n",
    "        ]\n",
    "    }"
   ]
  },
  {
   "cell_type": "code",
   "execution_count": 25,
   "metadata": {},
   "outputs": [
    {
     "name": "stderr",
     "output_type": "stream",
     "text": [
      "/Users/pszekely/github/etk-pedro/etk/document.py:42: UserWarning: Schema not found.\n  warnings.warn(\"Schema not found.\")\n"
     ]
    }
   ],
   "source": [
    "doc = etk.create_document(sample_input)"
   ]
  },
  {
   "cell_type": "code",
   "execution_count": 26,
   "metadata": {},
   "outputs": [],
   "source": [
    "name_extractor = GlossaryExtractor(etk.load_glossary(\"./examples/hello_world/names.txt\"), \"name_extractor\",\n",
    "                                                etk.default_tokenizer,\n",
    "                                                case_sensitive=False, ngrams=1)"
   ]
  },
  {
   "cell_type": "code",
   "execution_count": 27,
   "metadata": {},
   "outputs": [],
   "source": [
    "descriptions = doc.select_segments(\"projects[*].description\")\n",
    "projects = doc.select_segments(\"projects[*]\")\n"
   ]
  },
  {
   "cell_type": "code",
   "execution_count": 28,
   "metadata": {},
   "outputs": [],
   "source": [
    "for d, p in zip(descriptions, projects):\n",
    "    names = doc.extract(name_extractor, d)\n",
    "    p.store(names, \"members\")"
   ]
  },
  {
   "cell_type": "code",
   "execution_count": 29,
   "metadata": {},
   "outputs": [
    {
     "name": "stdout",
     "output_type": "stream",
     "text": [
      "{\n  \"projects\": [\n    {\n      \"name\": \"etk\",\n      \"description\": \"version 2 of etk, implemented by Runqi, Dongyu, Sylvia, Amandeep and others.\",\n      \"members\": [\n        \"Runqi\",\n        \"Dongyu\",\n        \"Sylvia\",\n        \"Amandeep\"\n      ]\n    },\n    {\n      \"name\": \"rltk\",\n      \"description\": \"record linkage toolkit, implemented by Pedro, Mayank, Yixiang and several students.\",\n      \"members\": [\n        \"Pedro\",\n        \"Mayank\",\n        \"Yixiang\"\n      ]\n    }\n  ],\n  \"provenances\": [\n    {\n      \"@type\": \"extraction_provenance_record\",\n      \"@id\": 0,\n      \"method\": \"name_extractor\",\n      \"confidence\": 1.0,\n      \"origin_record\": [\n        {\n          \"path\": \"projects.[0].description\",\n          \"start_char\": 33,\n          \"end_char\": 38\n        }\n      ]\n    },\n    {\n      \"@type\": \"extraction_provenance_record\",\n      \"@id\": 1,\n      \"method\": \"name_extractor\",\n      \"confidence\": 1.0,\n      \"origin_record\": [\n        {\n          \"path\": \"projects.[0].description\",\n          \"start_char\": 40,\n          \"end_char\": 46\n        }\n      ]\n    },\n    {\n      \"@type\": \"extraction_provenance_record\",\n      \"@id\": 2,\n      \"method\": \"name_extractor\",\n      \"confidence\": 1.0,\n      \"origin_record\": [\n        {\n          \"path\": \"projects.[0].description\",\n          \"start_char\": 48,\n          \"end_char\": 54\n        }\n      ]\n    },\n    {\n      \"@type\": \"extraction_provenance_record\",\n      \"@id\": 3,\n      \"method\": \"name_extractor\",\n      \"confidence\": 1.0,\n      \"origin_record\": [\n        {\n          \"path\": \"projects.[0].description\",\n          \"start_char\": 56,\n          \"end_char\": 64\n        }\n      ]\n    },\n    {\n      \"@type\": \"storage_provenance_record\",\n      \"doc_id\": null,\n      \"field\": null,\n      \"destination\": \"projects.[0].members\",\n      \"extraction_provenance_record_id\": [\n        0,\n        1,\n        2,\n        3\n      ]\n    },\n    {\n      \"@type\": \"extraction_provenance_record\",\n      \"@id\": 4,\n      \"method\": \"name_extractor\",\n      \"confidence\": 1.0,\n      \"origin_record\": [\n        {\n          \"path\": \"projects.[1].description\",\n          \"start_char\": 39,\n          \"end_char\": 44\n        }\n      ]\n    },\n    {\n      \"@type\": \"extraction_provenance_record\",\n      \"@id\": 5,\n      \"method\": \"name_extractor\",\n      \"confidence\": 1.0,\n      \"origin_record\": [\n        {\n          \"path\": \"projects.[1].description\",\n          \"start_char\": 46,\n          \"end_char\": 52\n        }\n      ]\n    },\n    {\n      \"@type\": \"extraction_provenance_record\",\n      \"@id\": 6,\n      \"method\": \"name_extractor\",\n      \"confidence\": 1.0,\n      \"origin_record\": [\n        {\n          \"path\": \"projects.[1].description\",\n          \"start_char\": 54,\n          \"end_char\": 61\n        }\n      ]\n    },\n    {\n      \"@type\": \"storage_provenance_record\",\n      \"doc_id\": null,\n      \"field\": null,\n      \"destination\": \"projects.[1].members\",\n      \"extraction_provenance_record_id\": [\n        4,\n        5,\n        6\n      ]\n    }\n  ]\n}\n"
     ]
    }
   ],
   "source": [
    "print(json.dumps(doc.value, indent=2))"
   ]
  },
  {
   "cell_type": "code",
   "execution_count": 30,
   "metadata": {},
   "outputs": [],
   "source": []
  }
 ],
 "metadata": {
  "kernelspec": {
   "display_name": "Python 2",
   "language": "python",
   "name": "python2"
  },
  "language_info": {
   "codemirror_mode": {
    "name": "ipython",
    "version": 2
   },
   "file_extension": ".py",
   "mimetype": "text/x-python",
   "name": "python",
   "nbconvert_exporter": "python",
   "pygments_lexer": "ipython2",
   "version": "2.7.6"
  }
 },
 "nbformat": 4,
 "nbformat_minor": 0
}
